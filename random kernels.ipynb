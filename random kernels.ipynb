{
 "cells": [
  {
   "cell_type": "markdown",
   "id": "77829dbb",
   "metadata": {},
   "source": [
    "# Import\n",
    "https://x-datainitiative.github.io/tick/auto_examples/plot_hawkes_em.html"
   ]
  },
  {
   "cell_type": "code",
   "execution_count": 1,
   "id": "3ec4d2cd",
   "metadata": {},
   "outputs": [],
   "source": [
    "import numpy as np\n",
    "import matplotlib.pyplot as plt\n",
    "import pandas as pd\n",
    "\n",
    "from tick.hawkes import (SimuHawkes, HawkesKernelTimeFunc, HawkesKernelExp,\n",
    "                         HawkesEM)\n",
    "from tick.base import TimeFunction\n",
    "from tick.plot import plot_hawkes_kernels"
   ]
  },
  {
   "cell_type": "code",
   "execution_count": 2,
   "id": "aa8d72b8",
   "metadata": {},
   "outputs": [],
   "source": [
    "df = pd.read_csv(\"new-seismic-bumps.csv\")\n",
    "\n",
    "#select threshold for min magnitude to be counted as event\n",
    "m = 10000\n",
    "df = df.loc[df['magnitude'] >= m]\n",
    "\n",
    "dfa = df.to_numpy()"
   ]
  },
  {
   "cell_type": "code",
   "execution_count": 3,
   "id": "fbd14c8b",
   "metadata": {},
   "outputs": [
    {
     "ename": "RuntimeError",
     "evalue": "X-array must be sorted\n",
     "output_type": "error",
     "traceback": [
      "\u001b[1;31m---------------------------------------------------------------------------\u001b[0m",
      "\u001b[1;31mRuntimeError\u001b[0m                              Traceback (most recent call last)",
      "\u001b[1;32m<ipython-input-3-a96394615144>\u001b[0m in \u001b[0;36m<module>\u001b[1;34m\u001b[0m\n\u001b[0;32m      3\u001b[0m \u001b[0mt_values1\u001b[0m \u001b[1;33m=\u001b[0m \u001b[0mdfa\u001b[0m\u001b[1;33m[\u001b[0m\u001b[1;33m:\u001b[0m\u001b[1;33m,\u001b[0m \u001b[1;36m0\u001b[0m\u001b[1;33m]\u001b[0m\u001b[1;33m\u001b[0m\u001b[1;33m\u001b[0m\u001b[0m\n\u001b[0;32m      4\u001b[0m \u001b[0my_values1\u001b[0m \u001b[1;33m=\u001b[0m \u001b[0mdfa\u001b[0m\u001b[1;33m[\u001b[0m\u001b[1;33m:\u001b[0m\u001b[1;33m,\u001b[0m \u001b[1;36m1\u001b[0m\u001b[1;33m]\u001b[0m\u001b[1;33m\u001b[0m\u001b[1;33m\u001b[0m\u001b[0m\n\u001b[1;32m----> 5\u001b[1;33m tf1 = TimeFunction([t_values1, y_values1],\n\u001b[0m\u001b[0;32m      6\u001b[0m                    inter_mode=TimeFunction.InterConstRight, dt=0.1)\n\u001b[0;32m      7\u001b[0m \u001b[0mkernel1\u001b[0m \u001b[1;33m=\u001b[0m \u001b[0mHawkesKernelTimeFunc\u001b[0m\u001b[1;33m(\u001b[0m\u001b[0mtf1\u001b[0m\u001b[1;33m)\u001b[0m\u001b[1;33m\u001b[0m\u001b[1;33m\u001b[0m\u001b[0m\n",
      "\u001b[1;32m~\\anaconda3\\lib\\site-packages\\tick\\base\\timefunc.py\u001b[0m in \u001b[0;36m__init__\u001b[1;34m(self, values, border_type, inter_mode, dt, border_value)\u001b[0m\n\u001b[0;32m    110\u001b[0m             \u001b[0my_values\u001b[0m \u001b[1;33m=\u001b[0m \u001b[0mnp\u001b[0m\u001b[1;33m.\u001b[0m\u001b[0masarray\u001b[0m\u001b[1;33m(\u001b[0m\u001b[0mvalues\u001b[0m\u001b[1;33m[\u001b[0m\u001b[1;36m1\u001b[0m\u001b[1;33m]\u001b[0m\u001b[1;33m,\u001b[0m \u001b[0mdtype\u001b[0m\u001b[1;33m=\u001b[0m\u001b[0mfloat\u001b[0m\u001b[1;33m)\u001b[0m\u001b[1;33m\u001b[0m\u001b[1;33m\u001b[0m\u001b[0m\n\u001b[0;32m    111\u001b[0m \u001b[1;33m\u001b[0m\u001b[0m\n\u001b[1;32m--> 112\u001b[1;33m             self._time_function = _TimeFunction(\n\u001b[0m\u001b[0;32m    113\u001b[0m                 t_values, y_values, border_type, inter_mode, dt, border_value)\n\u001b[0;32m    114\u001b[0m             \u001b[0mself\u001b[0m\u001b[1;33m.\u001b[0m\u001b[0moriginal_y\u001b[0m \u001b[1;33m=\u001b[0m \u001b[0my_values\u001b[0m\u001b[1;33m\u001b[0m\u001b[1;33m\u001b[0m\u001b[0m\n",
      "\u001b[1;32m~\\anaconda3\\lib\\site-packages\\tick\\base\\build\\base.py\u001b[0m in \u001b[0;36m__init__\u001b[1;34m(self, *args)\u001b[0m\n\u001b[0;32m    136\u001b[0m         \u001b[0m__init__\u001b[0m\u001b[1;33m(\u001b[0m\u001b[0mTimeFunction\u001b[0m \u001b[0mself\u001b[0m\u001b[1;33m,\u001b[0m \u001b[0mdouble\u001b[0m \u001b[0my\u001b[0m\u001b[1;33m=\u001b[0m\u001b[1;36m0.0\u001b[0m\u001b[1;33m)\u001b[0m \u001b[1;33m->\u001b[0m \u001b[0mTimeFunction\u001b[0m\u001b[1;33m\u001b[0m\u001b[1;33m\u001b[0m\u001b[0m\n\u001b[0;32m    137\u001b[0m         \"\"\"\n\u001b[1;32m--> 138\u001b[1;33m         \u001b[0m_base\u001b[0m\u001b[1;33m.\u001b[0m\u001b[0mTimeFunction_swiginit\u001b[0m\u001b[1;33m(\u001b[0m\u001b[0mself\u001b[0m\u001b[1;33m,\u001b[0m \u001b[0m_base\u001b[0m\u001b[1;33m.\u001b[0m\u001b[0mnew_TimeFunction\u001b[0m\u001b[1;33m(\u001b[0m\u001b[1;33m*\u001b[0m\u001b[0margs\u001b[0m\u001b[1;33m)\u001b[0m\u001b[1;33m)\u001b[0m\u001b[1;33m\u001b[0m\u001b[1;33m\u001b[0m\u001b[0m\n\u001b[0m\u001b[0;32m    139\u001b[0m \u001b[1;33m\u001b[0m\u001b[0m\n\u001b[0;32m    140\u001b[0m     \u001b[1;32mdef\u001b[0m \u001b[0mvalue\u001b[0m\u001b[1;33m(\u001b[0m\u001b[0mself\u001b[0m\u001b[1;33m,\u001b[0m \u001b[1;33m*\u001b[0m\u001b[0margs\u001b[0m\u001b[1;33m)\u001b[0m \u001b[1;33m->\u001b[0m \u001b[1;34m\"SArrayDoublePtr\"\u001b[0m\u001b[1;33m:\u001b[0m\u001b[1;33m\u001b[0m\u001b[1;33m\u001b[0m\u001b[0m\n",
      "\u001b[1;31mRuntimeError\u001b[0m: X-array must be sorted\n"
     ]
    }
   ],
   "source": [
    "run_time = 30000\n",
    "\n",
    "t_values1 = dfa[:, 0]\n",
    "y_values1 = dfa[:, 1]\n",
    "tf1 = TimeFunction([t_values1, y_values1],\n",
    "                   inter_mode=TimeFunction.InterConstRight, dt=0.1)\n",
    "kernel1 = HawkesKernelTimeFunc(tf1)\n",
    "\n",
    "t_values2 = np.linspace(0, 4, 20)\n",
    "y_values2 = np.maximum(0., np.sin(t_values2) / 4)\n",
    "tf2 = TimeFunction([t_values2, y_values2])\n",
    "kernel2 = HawkesKernelTimeFunc(tf2)\n",
    "\n",
    "baseline = np.array([0.1, 0.3])\n",
    "\n",
    "hawkes = SimuHawkes(baseline=baseline, end_time=run_time, verbose=False,\n",
    "                    seed=2334)\n",
    "\n",
    "hawkes.set_kernel(0, 0, kernel1)\n",
    "hawkes.set_kernel(0, 1, HawkesKernelExp(.5, .7))\n",
    "hawkes.set_kernel(1, 1, kernel2)\n",
    "\n",
    "hawkes.simulate()\n",
    "\n",
    "em = HawkesEM(4, kernel_size=16, n_threads=8, verbose=False, tol=1e-3)\n",
    "em.fit(hawkes.timestamps)\n",
    "\n",
    "fig = plot_hawkes_kernels(em, hawkes=hawkes, show=False)\n",
    "\n",
    "for ax in fig.axes:\n",
    "    ax.set_ylim([0, 1])\n",
    "plt.show()"
   ]
  },
  {
   "cell_type": "code",
   "execution_count": null,
   "id": "5e9aad44",
   "metadata": {},
   "outputs": [],
   "source": []
  }
 ],
 "metadata": {
  "kernelspec": {
   "display_name": "Python 3",
   "language": "python",
   "name": "python3"
  },
  "language_info": {
   "codemirror_mode": {
    "name": "ipython",
    "version": 3
   },
   "file_extension": ".py",
   "mimetype": "text/x-python",
   "name": "python",
   "nbconvert_exporter": "python",
   "pygments_lexer": "ipython3",
   "version": "3.8.8"
  }
 },
 "nbformat": 4,
 "nbformat_minor": 5
}
