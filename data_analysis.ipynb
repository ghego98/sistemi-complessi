{
 "cells": [
  {
   "cell_type": "markdown",
   "id": "77829dbb",
   "metadata": {},
   "source": [
    "# Import"
   ]
  },
  {
   "cell_type": "code",
   "execution_count": 1,
   "id": "78b8e010",
   "metadata": {},
   "outputs": [],
   "source": [
    "#First we import the necessary packages\n",
    "import numpy as np\n",
    "import pandas as pd\n",
    "import matplotlib.pyplot as plt\n",
    "import seaborn as sns; sns.set ()\n",
    "import scipy\n",
    "import scipy.stats as stats\n",
    "import statistics"
   ]
  },
  {
   "cell_type": "code",
   "execution_count": 2,
   "id": "ebed466c",
   "metadata": {},
   "outputs": [],
   "source": [
    "import matplotlib.lines\n",
    "import math, matplotlib"
   ]
  },
  {
   "cell_type": "code",
   "execution_count": 3,
   "id": "ffba7a15",
   "metadata": {},
   "outputs": [],
   "source": [
    "#we load the data set\n",
    "df = pd.read_csv(\"new-seismic-bumps.csv\")"
   ]
  },
  {
   "cell_type": "code",
   "execution_count": 4,
   "id": "eda66550",
   "metadata": {
    "scrolled": true
   },
   "outputs": [
    {
     "data": {
      "text/html": [
       "<div>\n",
       "<style scoped>\n",
       "    .dataframe tbody tr th:only-of-type {\n",
       "        vertical-align: middle;\n",
       "    }\n",
       "\n",
       "    .dataframe tbody tr th {\n",
       "        vertical-align: top;\n",
       "    }\n",
       "\n",
       "    .dataframe thead th {\n",
       "        text-align: right;\n",
       "    }\n",
       "</style>\n",
       "<table border=\"1\" class=\"dataframe\">\n",
       "  <thead>\n",
       "    <tr style=\"text-align: right;\">\n",
       "      <th></th>\n",
       "      <th>magnitude</th>\n",
       "      <th>time</th>\n",
       "    </tr>\n",
       "  </thead>\n",
       "  <tbody>\n",
       "    <tr>\n",
       "      <th>0</th>\n",
       "      <td>2000</td>\n",
       "      <td>1</td>\n",
       "    </tr>\n",
       "    <tr>\n",
       "      <th>1</th>\n",
       "      <td>3000</td>\n",
       "      <td>3</td>\n",
       "    </tr>\n",
       "    <tr>\n",
       "      <th>2</th>\n",
       "      <td>1000</td>\n",
       "      <td>6</td>\n",
       "    </tr>\n",
       "    <tr>\n",
       "      <th>3</th>\n",
       "      <td>4000</td>\n",
       "      <td>7</td>\n",
       "    </tr>\n",
       "    <tr>\n",
       "      <th>4</th>\n",
       "      <td>500</td>\n",
       "      <td>9</td>\n",
       "    </tr>\n",
       "    <tr>\n",
       "      <th>...</th>\n",
       "      <td>...</td>\n",
       "      <td>...</td>\n",
       "    </tr>\n",
       "    <tr>\n",
       "      <th>1115</th>\n",
       "      <td>90000</td>\n",
       "      <td>2554</td>\n",
       "    </tr>\n",
       "    <tr>\n",
       "      <th>1116</th>\n",
       "      <td>600</td>\n",
       "      <td>2555</td>\n",
       "    </tr>\n",
       "    <tr>\n",
       "      <th>1117</th>\n",
       "      <td>6000</td>\n",
       "      <td>2567</td>\n",
       "    </tr>\n",
       "    <tr>\n",
       "      <th>1118</th>\n",
       "      <td>1000</td>\n",
       "      <td>2569</td>\n",
       "    </tr>\n",
       "    <tr>\n",
       "      <th>1119</th>\n",
       "      <td>200</td>\n",
       "      <td>2573</td>\n",
       "    </tr>\n",
       "  </tbody>\n",
       "</table>\n",
       "<p>1120 rows × 2 columns</p>\n",
       "</div>"
      ],
      "text/plain": [
       "      magnitude  time\n",
       "0          2000     1\n",
       "1          3000     3\n",
       "2          1000     6\n",
       "3          4000     7\n",
       "4           500     9\n",
       "...         ...   ...\n",
       "1115      90000  2554\n",
       "1116        600  2555\n",
       "1117       6000  2567\n",
       "1118       1000  2569\n",
       "1119        200  2573\n",
       "\n",
       "[1120 rows x 2 columns]"
      ]
     },
     "execution_count": 4,
     "metadata": {},
     "output_type": "execute_result"
    }
   ],
   "source": [
    "#We show the dataset\n",
    "df"
   ]
  },
  {
   "cell_type": "code",
   "execution_count": 5,
   "id": "4a32ab43",
   "metadata": {},
   "outputs": [],
   "source": [
    "#select threshold for min magnitude to be counted as event\n",
    "m = 10000\n",
    "df = df.loc[df['magnitude'] >= m]"
   ]
  },
  {
   "cell_type": "code",
   "execution_count": 6,
   "id": "e2aae3db",
   "metadata": {},
   "outputs": [
    {
     "data": {
      "image/png": "[encoded data removed]",
      "text/plain": [
       "<Figure size 432x288 with 1 Axes>"
      ]
     },
     "metadata": {},
     "output_type": "display_data"
    },
    {
     "data": {
      "image/png": "[encoded data removed]",
      "text/plain": [
       "<Figure size 432x288 with 1 Axes>"
      ]
     },
     "metadata": {},
     "output_type": "display_data"
    }
   ],
   "source": [
    "#we make a plot for every columns to visualize the data\n",
    "for column in df.head():\n",
    "    plt.plot(df[column])\n",
    "    plt.xlabel(column)\n",
    "    plt.show()"
   ]
  },
  {
   "cell_type": "code",
   "execution_count": 7,
   "id": "def89b15",
   "metadata": {},
   "outputs": [
    {
     "data": {
      "image/png": "[encoded data removed]",
      "text/plain": [
       "<Figure size 432x288 with 1 Axes>"
      ]
     },
     "metadata": {},
     "output_type": "display_data"
    }
   ],
   "source": [
    "h=plt.hist(df[\"magnitude\"], bins=np.arange(0,20000,150))\n",
    "plt.show()"
   ]
  },
  {
   "cell_type": "code",
   "execution_count": 8,
   "id": "2d070f3f",
   "metadata": {},
   "outputs": [],
   "source": [
    "#vedo caratteristiche statistiche delle misure\n",
    "from scipy.stats import skew\n",
    "from scipy.stats import kurtosis"
   ]
  },
  {
   "cell_type": "code",
   "execution_count": 9,
   "id": "52361395",
   "metadata": {},
   "outputs": [
    {
     "name": "stdout",
     "output_type": "stream",
     "text": [
      "3.4439438719943594\n",
      "14.3501230067065\n"
     ]
    }
   ],
   "source": [
    "print(skew(df[\"magnitude\"]))\n",
    "print(kurtosis(df[\"magnitude\"]))"
   ]
  },
  {
   "cell_type": "code",
   "execution_count": 10,
   "id": "da5cc490",
   "metadata": {},
   "outputs": [],
   "source": [
    "energy=df[\"magnitude\"]-statistics.mean(df[\"magnitude\"])"
   ]
  },
  {
   "cell_type": "code",
   "execution_count": 11,
   "id": "173e9a56",
   "metadata": {},
   "outputs": [
    {
     "data": {
      "text/plain": [
       "45045.17543859649"
      ]
     },
     "execution_count": 11,
     "metadata": {},
     "output_type": "execute_result"
    }
   ],
   "source": [
    "statistics.mean(df[\"magnitude\"])"
   ]
  },
  {
   "cell_type": "code",
   "execution_count": 12,
   "id": "ccb5a178",
   "metadata": {},
   "outputs": [
    {
     "name": "stdout",
     "output_type": "stream",
     "text": [
      "356954.8245614035\n"
     ]
    }
   ],
   "source": [
    "print(max(energy))"
   ]
  },
  {
   "cell_type": "code",
   "execution_count": 13,
   "id": "6e87b99d",
   "metadata": {},
   "outputs": [
    {
     "name": "stdout",
     "output_type": "stream",
     "text": [
      "-35045.17543859649\n"
     ]
    }
   ],
   "source": [
    "print(min(energy))"
   ]
  },
  {
   "cell_type": "code",
   "execution_count": 14,
   "id": "53ee8b7c",
   "metadata": {},
   "outputs": [
    {
     "data": {
      "image/png": "[encoded data removed]",
      "text/plain": [
       "<Figure size 432x288 with 1 Axes>"
      ]
     },
     "metadata": {},
     "output_type": "display_data"
    }
   ],
   "source": [
    "plt.hist(energy, bins=np.arange(-10000,20000,250))\n",
    "plt.show()"
   ]
  },
  {
   "cell_type": "code",
   "execution_count": 15,
   "id": "31564cee",
   "metadata": {},
   "outputs": [
    {
     "data": {
      "image/png": "[encoded data removed]",
      "text/plain": [
       "<Figure size 432x288 with 1 Axes>"
      ]
     },
     "metadata": {},
     "output_type": "display_data"
    }
   ],
   "source": [
    "plt.hist(np.log(df[\"magnitude\"]), bins=np.arange(-1,20,0.3))\n",
    "plt.xscale(\"log\")\n",
    "plt.show()"
   ]
  },
  {
   "cell_type": "code",
   "execution_count": 16,
   "id": "643b653c",
   "metadata": {},
   "outputs": [],
   "source": [
    "t = df.time.diff()"
   ]
  },
  {
   "cell_type": "code",
   "execution_count": 17,
   "id": "5fd7718f",
   "metadata": {},
   "outputs": [],
   "source": [
    "df = df.to_numpy()"
   ]
  },
  {
   "cell_type": "code",
   "execution_count": 18,
   "id": "80f0437b",
   "metadata": {
    "scrolled": true
   },
   "outputs": [],
   "source": [
    "#select how long you want the data input from 0 to dfa[:, 0] (don't run this cell)\n",
    "#dfa = dfa[:100]"
   ]
  },
  {
   "cell_type": "code",
   "execution_count": 19,
   "id": "56aa8f32",
   "metadata": {},
   "outputs": [
    {
     "data": {
      "text/plain": [
       "array([  36,  160,  161,  176,  203,  216,  219,  239,  251,  254,  257,\n",
       "        259,  263,  265,  267,  274,  275,  277,  278,  279,  280,  282,\n",
       "        283,  284,  285,  286,  287,  296,  297,  298,  300,  302,  304,\n",
       "        305,  306,  309,  316,  319,  323,  324,  326,  328,  330,  335,\n",
       "        337,  340,  341,  342,  344,  346,  349,  351,  352,  354,  357,\n",
       "        364,  377,  379,  380,  381,  384,  385,  386,  390,  392,  397,\n",
       "        398,  401,  403,  404,  405,  406,  407,  410,  411,  412,  413,\n",
       "        414,  415,  419,  420,  421,  422,  423,  425,  426,  428,  429,\n",
       "        430,  431,  433,  434,  438,  439,  443,  445,  446,  448,  449,\n",
       "        452,  453,  463,  465,  472,  473,  486,  494,  503,  505,  506,\n",
       "        515,  518,  533,  535,  554,  555,  556,  557,  559,  566,  570,\n",
       "        574,  590,  591,  594,  595,  597,  600,  608,  611,  613,  614,\n",
       "        618,  622,  629,  633,  637,  638,  639,  640,  650,  653,  655,\n",
       "        674,  683,  685,  692,  693,  695,  696,  697,  698,  701,  710,\n",
       "        713,  716,  718,  720,  722,  723,  733,  739,  749,  757,  758,\n",
       "        766,  802,  821,  848,  881,  909, 1111, 1193, 1207, 1373, 1386,\n",
       "       1487, 1495, 1500, 1522, 1549, 1553, 1569, 1612, 1635, 1669, 1673,\n",
       "       1687, 1691, 1701, 1703, 1724, 1732, 1738, 1740, 1762, 1786, 1796,\n",
       "       1826, 1836, 1839, 1880, 1953, 1963, 1983, 1985, 2002, 2046, 2152,\n",
       "       2155, 2209, 2210, 2230, 2250, 2261, 2285, 2292, 2298, 2311, 2336,\n",
       "       2340, 2380, 2402, 2448, 2513, 2523, 2543, 2554], dtype=int64)"
      ]
     },
     "execution_count": 19,
     "metadata": {},
     "output_type": "execute_result"
    }
   ],
   "source": [
    "df[:, 1]"
   ]
  },
  {
   "cell_type": "code",
   "execution_count": 20,
   "id": "ef1c19d8",
   "metadata": {},
   "outputs": [
    {
     "data": {
      "image/png": "[encoded data removed]",
      "text/plain": [
       "<Figure size 1440x360 with 1 Axes>"
      ]
     },
     "metadata": {},
     "output_type": "display_data"
    }
   ],
   "source": [
    "#mu = 0.07 # Parameter values as found in the article http://jheusser.github.io/2013/09/08/hawkes.html Hawkes Process section.\n",
    "#alpha = 1.18\n",
    "#beta = 1.79\n",
    "\n",
    "mu = 0.04 \n",
    "alpha = 0.03\n",
    "beta = 0.04\n",
    "\n",
    "EventTimes = df[:, 1]\n",
    "\n",
    "\" Compute conditional intensities for all times using the Hawkes process. \"\n",
    "timesOfInterest = np.linspace(0.0, df[-1,1], 600) # Times where the intensity will be sampled.\n",
    "conditionalIntensities = [] # Conditional intensity for every epoch of interest.\n",
    "for t in timesOfInterest:\n",
    "     conditionalIntensities.append( mu + np.array( [alpha*math.exp(-beta*(t-ti)) if t > ti else 0.0 for ti in EventTimes] ).sum() ) # Find the contributions of all preceding events to the overall chance of another one occurring. All events that occur after t have no contribution.\n",
    "\n",
    "\" Plot the conditional intensity time history. \"\n",
    "fig = plt.figure(figsize=(20,5))\n",
    "ax = fig.gca()\n",
    "\n",
    "labelsFontSize = 16\n",
    "ticksFontSize = 14\n",
    "\n",
    "fig.suptitle(r\"$Conditional\\ intensity\\ VS\\ time$\", fontsize=20)\n",
    "ax.grid(True)\n",
    "ax.set_xlabel(r'$Time$',fontsize=labelsFontSize)\n",
    "ax.set_ylabel(r'$\\lambda$',fontsize=labelsFontSize)\n",
    "matplotlib.rc('xtick', labelsize=ticksFontSize) \n",
    "matplotlib.rc('ytick', labelsize=ticksFontSize)\n",
    "\n",
    "eventsScatter = ax.scatter(EventTimes,np.ones(len(EventTimes))-1) # Just to indicate where the events took place.\n",
    "\n",
    "ax.plot(timesOfInterest, conditionalIntensities, color='red', linestyle='solid', marker=None, markerfacecolor='blue', markersize=12)\n",
    "fittedPlot = matplotlib.lines.Line2D([],[],color='red', linestyle='solid', marker=None,  markerfacecolor='blue', markersize=12)\n",
    "\n",
    "fig.legend([fittedPlot, eventsScatter], [r'$Conditional\\ intensity\\ computed\\ from\\   events$', r'$Events$'])\n",
    "plt.show()"
   ]
  },
  {
   "cell_type": "code",
   "execution_count": 21,
   "id": "200833f8",
   "metadata": {},
   "outputs": [
    {
     "data": {
      "image/png": "[encoded data removed]",
      "text/plain": [
       "<Figure size 1440x360 with 1 Axes>"
      ]
     },
     "metadata": {},
     "output_type": "display_data"
    }
   ],
   "source": [
    "\n",
    "EventTimes = df[:, 1]\n",
    "\n",
    "\" Compute conditional intensities for all times using the Hawkes process. \"\n",
    "timesOfInterest = np.linspace(0.0, df[-1,1], 600) # Times where the intensity will be sampled.\n",
    "conditionalIntensities = [] # Conditional intensity for every epoch of interest.\n",
    "for t in timesOfInterest:\n",
    "     conditionalIntensities.append(np.array( [(+1) if t > ti else 0.0 for ti in EventTimes] ).sum() ) # Find the contributions of all preceding events to the overall chance of another one occurring. All events that occur after t have no contribution.\n",
    "\n",
    "\" Plot the conditional intensity time history. \"\n",
    "fig = plt.figure(figsize=(20,5))\n",
    "ax = fig.gca()\n",
    "\n",
    "labelsFontSize = 16\n",
    "ticksFontSize = 14\n",
    "\n",
    "fig.suptitle(r\"$Events\\ count\\ VS\\ time$\", fontsize=20)\n",
    "ax.grid(True)\n",
    "ax.set_xlabel(r'$Time$',fontsize=labelsFontSize)\n",
    "ax.set_ylabel(r'$N_t$',fontsize=labelsFontSize)\n",
    "matplotlib.rc('xtick', labelsize=ticksFontSize) \n",
    "matplotlib.rc('ytick', labelsize=ticksFontSize)\n",
    "\n",
    "eventsScatter = ax.scatter(EventTimes,np.ones(len(EventTimes))-1) # Just to indicate where the events took place.\n",
    "\n",
    "ax.plot(timesOfInterest, conditionalIntensities, color='red', linestyle='solid', marker=None, markerfacecolor='blue', markersize=12)\n",
    "fittedPlot = matplotlib.lines.Line2D([],[],color='red', linestyle='solid', marker=None,  markerfacecolor='blue', markersize=12)\n",
    "\n",
    "fig.legend([fittedPlot, eventsScatter], [r'$Counting\\ of\\ events$', r'$Events$'])\n",
    "plt.show()"
   ]
  },
  {
   "cell_type": "code",
   "execution_count": 22,
   "id": "8359fbdc",
   "metadata": {},
   "outputs": [],
   "source": [
    "#we load the data set\n",
    "df = pd.read_csv(\"new-seismic-bumps.csv\")"
   ]
  },
  {
   "cell_type": "code",
   "execution_count": 23,
   "id": "1fb136da",
   "metadata": {},
   "outputs": [
    {
     "data": {
      "text/plain": [
       "(array([0., 0., 0., 0., 0., 1., 0., 0., 0., 0.]),\n",
       " array([2553.5, 2553.6, 2553.7, 2553.8, 2553.9, 2554. , 2554.1, 2554.2,\n",
       "        2554.3, 2554.4, 2554.5]),\n",
       " <BarContainer object of 10 artists>)"
      ]
     },
     "execution_count": 23,
     "metadata": {},
     "output_type": "execute_result"
    },
    {
     "data": {
      "image/png": "[encoded data removed]",
      "text/plain": [
       "<Figure size 432x288 with 1 Axes>"
      ]
     },
     "metadata": {},
     "output_type": "display_data"
    }
   ],
   "source": [
    "plt.hist(t)"
   ]
  },
  {
   "cell_type": "code",
   "execution_count": 24,
   "id": "401bd0a1",
   "metadata": {},
   "outputs": [],
   "source": [
    "t = df.time.diff(1).dropna()"
   ]
  },
  {
   "cell_type": "code",
   "execution_count": 25,
   "id": "2eb0d69c",
   "metadata": {},
   "outputs": [
    {
     "name": "stdout",
     "output_type": "stream",
     "text": [
      "166.0\n",
      "19.0\n",
      "17.0\n",
      "13.0\n",
      "27.0\n",
      "13.0\n",
      "18.0\n",
      "16.0\n",
      "16.0\n",
      "17.0\n",
      "13.0\n",
      "27.0\n",
      "14.0\n",
      "13.0\n"
     ]
    }
   ],
   "source": [
    "for i in t:\n",
    "    if i>12:\n",
    "        print(i)"
   ]
  },
  {
   "cell_type": "code",
   "execution_count": 26,
   "id": "d04c6507",
   "metadata": {},
   "outputs": [
    {
     "data": {
      "text/plain": [
       "<AxesSubplot:>"
      ]
     },
     "execution_count": 26,
     "metadata": {},
     "output_type": "execute_result"
    },
    {
     "data": {
      "image/png": "[encoded data removed]",
      "text/plain": [
       "<Figure size 432x288 with 1 Axes>"
      ]
     },
     "metadata": {},
     "output_type": "display_data"
    }
   ],
   "source": [
    "df.time.diff(1).hist(bins=np.arange(1,20))"
   ]
  },
  {
   "cell_type": "code",
   "execution_count": 27,
   "id": "ee7d8882",
   "metadata": {},
   "outputs": [
    {
     "data": {
      "text/plain": [
       "0          1\n",
       "1          3\n",
       "2          6\n",
       "3          7\n",
       "4          9\n",
       "        ... \n",
       "1115    2554\n",
       "1116    2555\n",
       "1117    2567\n",
       "1118    2569\n",
       "1119    2573\n",
       "Name: time, Length: 1120, dtype: int64"
      ]
     },
     "execution_count": 27,
     "metadata": {},
     "output_type": "execute_result"
    }
   ],
   "source": [
    "df.time"
   ]
  },
  {
   "cell_type": "code",
   "execution_count": 28,
   "id": "e7849a6f",
   "metadata": {},
   "outputs": [
    {
     "ename": "SyntaxError",
     "evalue": "invalid syntax (<ipython-input-28-cee191c35ec8>, line 3)",
     "output_type": "error",
     "traceback": [
      "\u001b[1;36m  File \u001b[1;32m\"<ipython-input-28-cee191c35ec8>\"\u001b[1;36m, line \u001b[1;32m3\u001b[0m\n\u001b[1;33m    h =\u001b[0m\n\u001b[1;37m        ^\u001b[0m\n\u001b[1;31mSyntaxError\u001b[0m\u001b[1;31m:\u001b[0m invalid syntax\n"
     ]
    }
   ],
   "source": [
    "params = stats.expon.fit(t, floc=1)\n",
    "r = stats.expon.rvs(size=1119)\n",
    "h = "
   ]
  },
  {
   "cell_type": "code",
   "execution_count": null,
   "id": "c8fd5353",
   "metadata": {},
   "outputs": [],
   "source": [
    "tt  = np.linspace(0,15,100)"
   ]
  },
  {
   "cell_type": "code",
   "execution_count": null,
   "id": "7f382dd3",
   "metadata": {},
   "outputs": [],
   "source": [
    "plt.plot(tt, stats.expon.pdf(tt,*params))\n",
    "df.time.diff(1).hist(bins=np.arange(1,20),density=True)\n",
    "'''quantile quantile plot'''"
   ]
  },
  {
   "cell_type": "code",
   "execution_count": null,
   "id": "d9e0db0f",
   "metadata": {},
   "outputs": [],
   "source": [
    "plt.plot(r)\n",
    "r = pd.Series(r)\n",
    "r = r.sort_values(ascending=True)"
   ]
  },
  {
   "cell_type": "code",
   "execution_count": null,
   "id": "0a9d35f5",
   "metadata": {},
   "outputs": [],
   "source": [
    "r = pd.Series(r)\n",
    "r"
   ]
  },
  {
   "cell_type": "code",
   "execution_count": null,
   "id": "1d5fb898",
   "metadata": {},
   "outputs": [],
   "source": [
    "r = r.sort_values(ascending=True)\n",
    "plt.plot(r)"
   ]
  },
  {
   "cell_type": "code",
   "execution_count": null,
   "id": "eb3a0550",
   "metadata": {},
   "outputs": [],
   "source": [
    "plt.plot(t)\n",
    "t = t.sort_values(ascending=True)"
   ]
  },
  {
   "cell_type": "code",
   "execution_count": null,
   "id": "9747ff41",
   "metadata": {},
   "outputs": [],
   "source": [
    "n= 700\n",
    "q = list(range(0,n))\n",
    "q = [x / (n-1) for x in q]"
   ]
  },
  {
   "cell_type": "code",
   "execution_count": null,
   "id": "73e6c7e5",
   "metadata": {},
   "outputs": [],
   "source": [
    "x = np.quantile(t, q)        \n",
    "e = np.quantile(r, q) \n",
    "\n",
    "fig = plt.figure(figsize=(10,10))\n",
    "ax = fig.gca()\n",
    "\n",
    "ax.plot([0,max(x)], [0,max(x)])\n",
    "\n",
    "labelsFontSize = 16\n",
    "ticksFontSize = 14\n",
    "\n",
    "\n",
    "fig.suptitle(r\"$Q-Q\\ plot\\ Data\\ VS\\ exp$\", fontsize=20)\n",
    "ax.grid(True)\n",
    "ax.set_xlabel(r'$Data\\ interinterval\\ distribution $',fontsize=labelsFontSize)\n",
    "ax.set_ylabel(r'$Exponential\\ distribution$',fontsize=labelsFontSize)\n",
    "matplotlib.rc('xtick', labelsize=ticksFontSize) \n",
    "matplotlib.rc('ytick', labelsize=ticksFontSize)\n",
    "\n",
    "eventsScatter = ax.scatter(x,e) # Just to indicate where the events took place.\n",
    "\n",
    "\n",
    "plt.show()"
   ]
  },
  {
   "cell_type": "code",
   "execution_count": null,
   "id": "a126ecf8",
   "metadata": {},
   "outputs": [],
   "source": [
    "t1 = t\n",
    "t1  = t1.drop([688])\n",
    "\n",
    "x = np.quantile(t1, q)        \n",
    "e = np.quantile(r, q) \n",
    "\n",
    "fig = plt.figure(figsize=(10,10))\n",
    "ax = fig.gca()\n",
    "\n",
    "ax.plot([0,max(x)], [0,max(x)])\n",
    "\n",
    "labelsFontSize = 16\n",
    "ticksFontSize = 14\n",
    "\n",
    "\n",
    "fig.suptitle(r\"$Q-Q\\ plot\\ Data\\ VS\\ exp$\", fontsize=20)\n",
    "ax.grid(True)\n",
    "ax.set_xlabel(r'$Data\\ inter-arrival\\ times\\ distribution $',fontsize=labelsFontSize)\n",
    "ax.set_ylabel(r'$Exponential\\ distribution$',fontsize=labelsFontSize)\n",
    "matplotlib.rc('xtick', labelsize=ticksFontSize) \n",
    "matplotlib.rc('ytick', labelsize=ticksFontSize)\n",
    "\n",
    "eventsScatter = ax.scatter(x,e) # Just to indicate where the events took place.\n",
    "\n",
    "\n",
    "plt.show()\n",
    "\n",
    "#fare anche con hawkes"
   ]
  },
  {
   "cell_type": "code",
   "execution_count": null,
   "id": "5785b4d7",
   "metadata": {},
   "outputs": [],
   "source": [
    "arr_g = stats.norm.rvs(loc = 5, scale = 12, size = 20_000)\n",
    "plt.hist(arr_g)"
   ]
  },
  {
   "cell_type": "code",
   "execution_count": null,
   "id": "54fcd50c",
   "metadata": {},
   "outputs": [],
   "source": [
    "arr_g"
   ]
  },
  {
   "cell_type": "code",
   "execution_count": null,
   "id": "78b6d675",
   "metadata": {},
   "outputs": [],
   "source": [
    "from scipy.optimize import minimize"
   ]
  },
  {
   "cell_type": "code",
   "execution_count": null,
   "id": "9e984c01",
   "metadata": {},
   "outputs": [],
   "source": [
    "def logl(params, x):\n",
    "    mu, scale =params\n",
    "    return - stats.norm.logpdf(x, mu, scale).sum()\n",
    "    "
   ]
  },
  {
   "cell_type": "code",
   "execution_count": null,
   "id": "0027aa53",
   "metadata": {},
   "outputs": [],
   "source": [
    "mm = minimize(logl, x0= (3,7), args = arr_g)"
   ]
  },
  {
   "cell_type": "code",
   "execution_count": null,
   "id": "2f7ae42f",
   "metadata": {},
   "outputs": [],
   "source": [
    "np.sqrt(mm.hess_inv).diagonal()"
   ]
  },
  {
   "cell_type": "code",
   "execution_count": null,
   "id": "c036dbdf",
   "metadata": {},
   "outputs": [],
   "source": [
    "mm.x"
   ]
  },
  {
   "cell_type": "code",
   "execution_count": null,
   "id": "1a4e6f43",
   "metadata": {},
   "outputs": [],
   "source": [
    "def logp(par, N, T):\n",
    "    k, y = par\n",
    "    return -N*np.log(k) + k*T +y"
   ]
  },
  {
   "cell_type": "code",
   "execution_count": null,
   "id": "a658099e",
   "metadata": {},
   "outputs": [],
   "source": [
    "minimize(logp, x0 = (1,1), args = (1119,2573), bounds=((0.1,1),))"
   ]
  },
  {
   "cell_type": "code",
   "execution_count": null,
   "id": "d67a5f1a",
   "metadata": {},
   "outputs": [],
   "source": [
    "def loglik(params, times):\n",
    "    mu, alpha, beta = params\n",
    "    logl = 0\n",
    "    for x in times:\n",
    "        ti = times[times<x]\n",
    "        logl += np.log(mu + alpha*(np.exp(-beta*(x-ti))).sum())\n",
    "    logl += -mu*times[-1] - (alpha/beta*(1-np.exp(-beta*(times[-1]-times)))).sum()\n",
    "    print(logl, params)\n",
    "    return -logl\n",
    "   "
   ]
  },
  {
   "cell_type": "code",
   "execution_count": null,
   "id": "20991fa1",
   "metadata": {},
   "outputs": [],
   "source": [
    "xx = np.arange(100)"
   ]
  },
  {
   "cell_type": "code",
   "execution_count": null,
   "id": "a77ea662",
   "metadata": {},
   "outputs": [],
   "source": [
    "loglik((0.1, 1, 0.1), df.time.to_numpy())"
   ]
  },
  {
   "cell_type": "code",
   "execution_count": null,
   "id": "552fff58",
   "metadata": {
    "scrolled": true
   },
   "outputs": [],
   "source": [
    "minimize(loglik,x0=(0.01, 0.002, 0.001), args = df.time.to_numpy(), bounds=((0,None),))"
   ]
  },
  {
   "cell_type": "markdown",
   "id": "647309e8",
   "metadata": {},
   "source": [
    "## thinning"
   ]
  },
  {
   "cell_type": "code",
   "execution_count": null,
   "id": "0612c328",
   "metadata": {},
   "outputs": [],
   "source": [
    "def hawkesint (t, ptimes,par):\n",
    "    mu, alpha, beta = par\n",
    "    return mu + (alpha*np.exp(-beta*(t-ptimes))).sum()\n",
    "\n",
    "\n",
    "\n",
    "def thin(n, par):\n",
    "    mu, alpha, beta = par\n",
    "    t0 = 0\n",
    "    i = 1\n",
    "    tim = np.zeros(n)\n",
    "    while i<n:\n",
    "        lamstar = hawkesint(t0,tim[:i], par)\n",
    "        u = np.random.rand()\n",
    "        tau = -np.log(u)/lamstar\n",
    "        t0=t0 +tau\n",
    "        s = np.random.rand()\n",
    "        if s <= hawkesint(t0, tim[:i], par)/lamstar :\n",
    "            tim[i]= t0\n",
    "            i=i+1\n",
    "    return tim\n",
    "\n",
    "            \n",
    "\n",
    "mu = 0.0426 \n",
    "alpha = 0.0323\n",
    "beta = 0.0356\n",
    "ptimes = np.array([3,5,8,23,43])\n",
    "a = thin(1119,[mu, alpha, beta])\n",
    "print(a)\n",
    "\n"
   ]
  },
  {
   "cell_type": "code",
   "execution_count": null,
   "id": "cf0bbddd",
   "metadata": {},
   "outputs": [],
   "source": [
    "plt.hist(np.diff(a),bins=np.arange(20))"
   ]
  },
  {
   "cell_type": "code",
   "execution_count": null,
   "id": "bc4dd52a",
   "metadata": {},
   "outputs": [],
   "source": []
  }
 ],
 "metadata": {
  "kernelspec": {
   "display_name": "Python 3",
   "language": "python",
   "name": "python3"
  },
  "language_info": {
   "codemirror_mode": {
    "name": "ipython",
    "version": 3
   },
   "file_extension": ".py",
   "mimetype": "text/x-python",
   "name": "python",
   "nbconvert_exporter": "python",
   "pygments_lexer": "ipython3",
   "version": "3.8.8"
  }
 },
 "nbformat": 4,
 "nbformat_minor": 5
}
