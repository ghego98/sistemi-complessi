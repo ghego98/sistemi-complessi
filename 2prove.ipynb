{
 "cells": [
  {
   "cell_type": "markdown",
   "id": "77829dbb",
   "metadata": {},
   "source": [
    "# Import"
   ]
  },
  {
   "cell_type": "code",
   "execution_count": 1,
   "id": "fbd14c8b",
   "metadata": {},
   "outputs": [],
   "source": [
    "%matplotlib inline\n",
    "import requests\n",
    "from lxml import html\n",
    "from datetime import datetime as dt\n",
    "import numpy as np\n",
    "from matplotlib import pyplot as plt"
   ]
  },
  {
   "cell_type": "code",
   "execution_count": 2,
   "id": "413295db",
   "metadata": {},
   "outputs": [],
   "source": [
    "res = requests.get(\"http://www.koeri.boun.edu.tr/scripts/lst9.asp\")\n",
    "tx = html.fromstring(res.content).xpath(\"//pre/text()\")[0]\n",
    "lines = tx.splitlines()[7:]  # get rid of the headers\n",
    "\n",
    "# take out timestamps and convert them to \"hours since first event\"\n",
    "timestamps = [dt.strptime(l[:19], \"%Y.%m.%d %H:%M:%S\") for l in lines if \"EGE DENIZI\" in l]\n",
    "t = np.array([(x - timestamps[-1]).total_seconds() / 3600 for x in timestamps])[::-1]"
   ]
  },
  {
   "cell_type": "code",
   "execution_count": 3,
   "id": "3dc6f843",
   "metadata": {},
   "outputs": [
    {
     "data": {
      "image/png": "[encoded data removed]",
      "text/plain": [
       "<Figure size 1080x144 with 1 Axes>"
      ]
     },
     "metadata": {
      "needs_background": "light"
     },
     "output_type": "display_data"
    }
   ],
   "source": [
    "plt.figure(figsize=(15,2))\n",
    "plt.ylim([-5, 5])\n",
    "plt.yticks([])\n",
    "_ = plt.plot(t, np.random.rand(len(t)), 'k.')"
   ]
  },
  {
   "cell_type": "code",
   "execution_count": 7,
   "id": "8f8d4bd8",
   "metadata": {},
   "outputs": [
    {
     "name": "stdout",
     "output_type": "stream",
     "text": [
      "Requirement already satisfied: pip in c:\\users\\marco\\anaconda3\\lib\\site-packages (22.2.2)\n",
      "Requirement already satisfied: setuptools in c:\\users\\marco\\anaconda3\\lib\\site-packages (52.0.0.post20210125)\n",
      "Collecting setuptools\n",
      "  Using cached setuptools-65.3.0-py3-none-any.whl (1.2 MB)\n",
      "Requirement already satisfied: wheel in c:\\users\\marco\\anaconda3\\lib\\site-packages (0.36.2)\n",
      "Collecting wheel\n",
      "  Using cached wheel-0.37.1-py2.py3-none-any.whl (35 kB)\n",
      "Installing collected packages: wheel, setuptools\n",
      "  Attempting uninstall: wheel\n",
      "    Found existing installation: wheel 0.36.2\n",
      "    Uninstalling wheel-0.36.2:\n",
      "      Successfully uninstalled wheel-0.36.2\n",
      "  Attempting uninstall: setuptools\n",
      "    Found existing installation: setuptools 52.0.0.post20210125\n",
      "    Uninstalling setuptools-52.0.0.post20210125:\n",
      "      Successfully uninstalled setuptools-52.0.0.post20210125\n",
      "Successfully installed setuptools-65.3.0 wheel-0.37.1\n"
     ]
    },
    {
     "name": "stderr",
     "output_type": "stream",
     "text": [
      "ERROR: pip's dependency resolver does not currently take into account all the packages that are installed. This behaviour is the source of the following dependency conflicts.\n",
      "spyder 4.2.5 requires pyqt5<5.13, which is not installed.\n",
      "spyder 4.2.5 requires pyqtwebengine<5.13, which is not installed.\n",
      "conda-repo-cli 1.0.4 requires pathlib, which is not installed.\n"
     ]
    }
   ],
   "source": [
    "!pip install --upgrade pip setuptools wheel"
   ]
  },
  {
   "cell_type": "code",
   "execution_count": 1,
   "id": "816a5393",
   "metadata": {},
   "outputs": [
    {
     "name": "stdout",
     "output_type": "stream",
     "text": [
      "Collecting hawkeslib\n",
      "  Using cached hawkeslib-0.2.2.tar.gz (17 kB)\n",
      "  Preparing metadata (setup.py): started\n",
      "  Preparing metadata (setup.py): finished with status 'done'\n",
      "Requirement already satisfied: numpy>=1.14 in c:\\users\\marco\\anaconda3\\lib\\site-packages (from hawkeslib) (1.23.2)\n",
      "Requirement already satisfied: Cython>=0.28 in c:\\users\\marco\\anaconda3\\lib\\site-packages (from hawkeslib) (0.29.32)\n",
      "Requirement already satisfied: scipy>=1.1 in c:\\users\\marco\\anaconda3\\lib\\site-packages (from hawkeslib) (1.9.1)\n",
      "Requirement already satisfied: numdifftools>=0.9 in c:\\users\\marco\\anaconda3\\lib\\site-packages (from hawkeslib) (0.9.40)\n",
      "Requirement already satisfied: algopy>=0.4 in c:\\users\\marco\\anaconda3\\lib\\site-packages (from numdifftools>=0.9->hawkeslib) (0.5.7)\n",
      "Requirement already satisfied: statsmodels>=0.6 in c:\\users\\marco\\anaconda3\\lib\\site-packages (from numdifftools>=0.9->hawkeslib) (0.12.2)\n",
      "Requirement already satisfied: pandas>=0.21 in c:\\users\\marco\\anaconda3\\lib\\site-packages (from statsmodels>=0.6->numdifftools>=0.9->hawkeslib) (1.2.4)\n",
      "Requirement already satisfied: patsy>=0.5 in c:\\users\\marco\\anaconda3\\lib\\site-packages (from statsmodels>=0.6->numdifftools>=0.9->hawkeslib) (0.5.1)\n",
      "Requirement already satisfied: python-dateutil>=2.7.3 in c:\\users\\marco\\anaconda3\\lib\\site-packages (from pandas>=0.21->statsmodels>=0.6->numdifftools>=0.9->hawkeslib) (2.8.1)\n",
      "Requirement already satisfied: pytz>=2017.3 in c:\\users\\marco\\anaconda3\\lib\\site-packages (from pandas>=0.21->statsmodels>=0.6->numdifftools>=0.9->hawkeslib) (2021.1)\n",
      "Requirement already satisfied: six in c:\\users\\marco\\anaconda3\\lib\\site-packages (from patsy>=0.5->statsmodels>=0.6->numdifftools>=0.9->hawkeslib) (1.15.0)\n",
      "Building wheels for collected packages: hawkeslib\n",
      "  Building wheel for hawkeslib (setup.py): started\n",
      "  Building wheel for hawkeslib (setup.py): finished with status 'error'\n",
      "  Running setup.py clean for hawkeslib\n",
      "Failed to build hawkeslib\n",
      "Installing collected packages: hawkeslib\n",
      "  Running setup.py install for hawkeslib: started\n",
      "  Running setup.py install for hawkeslib: finished with status 'error'\n",
      "Note: you may need to restart the kernel to use updated packages.\n"
     ]
    },
    {
     "name": "stderr",
     "output_type": "stream",
     "text": [
      "  error: subprocess-exited-with-error\n",
      "  \n",
      "  python setup.py bdist_wheel did not run successfully.\n",
      "  exit code: 1\n",
      "  \n",
      "  [40 lines of output]\n",
      "  C:\\Users\\marco\\anaconda3\\lib\\site-packages\\setuptools\\config\\setupcfg.py:508: SetuptoolsDeprecationWarning: The license_file parameter is deprecated, use license_files instead.\n",
      "    warnings.warn(msg, warning_class)\n",
      "  running bdist_wheel\n",
      "  running build\n",
      "  running build_py\n",
      "  creating build\n",
      "  creating build\\lib.win-amd64-cpython-38\n",
      "  creating build\\lib.win-amd64-cpython-38\\hawkeslib\n",
      "  copying hawkeslib\\__init__.py -> build\\lib.win-amd64-cpython-38\\hawkeslib\n",
      "  creating build\\lib.win-amd64-cpython-38\\hawkeslib\\model\n",
      "  copying hawkeslib\\model\\model.py -> build\\lib.win-amd64-cpython-38\\hawkeslib\\model\n",
      "  copying hawkeslib\\model\\mv_exp.py -> build\\lib.win-amd64-cpython-38\\hawkeslib\\model\n",
      "  copying hawkeslib\\model\\poisson.py -> build\\lib.win-amd64-cpython-38\\hawkeslib\\model\n",
      "  copying hawkeslib\\model\\uv_bayes.py -> build\\lib.win-amd64-cpython-38\\hawkeslib\\model\n",
      "  copying hawkeslib\\model\\uv_exp.py -> build\\lib.win-amd64-cpython-38\\hawkeslib\\model\n",
      "  copying hawkeslib\\model\\__init__.py -> build\\lib.win-amd64-cpython-38\\hawkeslib\\model\n",
      "  creating build\\lib.win-amd64-cpython-38\\hawkeslib\\model\\c\n",
      "  copying hawkeslib\\model\\c\\__init__.py -> build\\lib.win-amd64-cpython-38\\hawkeslib\\model\\c\n",
      "  creating build\\lib.win-amd64-cpython-38\\hawkeslib\\util\n",
      "  copying hawkeslib\\util\\multitrace.py -> build\\lib.win-amd64-cpython-38\\hawkeslib\\util\n",
      "  copying hawkeslib\\util\\__init__.py -> build\\lib.win-amd64-cpython-38\\hawkeslib\\util\n",
      "  running build_ext\n",
      "  building 'hawkeslib.model.c.c_uv_exp' extension\n",
      "  creating build\\temp.win-amd64-cpython-38\n",
      "  creating build\\temp.win-amd64-cpython-38\\Release\n",
      "  creating build\\temp.win-amd64-cpython-38\\Release\\hawkeslib\n",
      "  creating build\\temp.win-amd64-cpython-38\\Release\\hawkeslib\\model\n",
      "  creating build\\temp.win-amd64-cpython-38\\Release\\hawkeslib\\model\\c\n",
      "  \"C:\\Program Files (x86)\\Microsoft Visual Studio\\2022\\BuildTools\\VC\\Tools\\MSVC\\14.33.31629\\bin\\HostX86\\x64\\cl.exe\" /c /nologo /O2 /W3 /GL /DNDEBUG /MD -IC:\\Users\\marco\\anaconda3\\lib\\site-packages\\numpy\\core\\include -IC:\\Users\\marco\\anaconda3\\include -IC:\\Users\\marco\\anaconda3\\Include \"-IC:\\Program Files (x86)\\Microsoft Visual Studio\\2022\\BuildTools\\VC\\Tools\\MSVC\\14.33.31629\\include\" \"-IC:\\Program Files (x86)\\Microsoft Visual Studio\\2022\\BuildTools\\VC\\Auxiliary\\VS\\include\" \"-IC:\\Program Files (x86)\\Windows Kits\\10\\include\\10.0.19041.0\\ucrt\" \"-IC:\\Program Files (x86)\\Windows Kits\\10\\\\include\\10.0.19041.0\\\\um\" \"-IC:\\Program Files (x86)\\Windows Kits\\10\\\\include\\10.0.19041.0\\\\shared\" \"-IC:\\Program Files (x86)\\Windows Kits\\10\\\\include\\10.0.19041.0\\\\winrt\" \"-IC:\\Program Files (x86)\\Windows Kits\\10\\\\include\\10.0.19041.0\\\\cppwinrt\" /EHsc /Tphawkeslib/model/c/c_uv_exp.cpp /Fobuild\\temp.win-amd64-cpython-38\\Release\\hawkeslib/model/c/c_uv_exp.obj -O3 -march=native\n",
      "  cl : warning della riga di comando D9002 : l'opzione sconosciuta '-O3' verr… ignorata\n",
      "  cl : warning della riga di comando D9002 : l'opzione sconosciuta '-march=native' verr… ignorata\n",
      "  c_uv_exp.cpp\n",
      "  C:\\Users\\marco\\anaconda3\\lib\\site-packages\\numpy\\core\\include\\numpy\\npy_1_7_deprecated_api.h(14) : Warning Msg: Using deprecated NumPy API, disable it with #define NPY_NO_DEPRECATED_API NPY_1_7_API_VERSION\n",
      "  hawkeslib/model/c/c_uv_exp.cpp(2372): warning C4244: '=': conversione da 'npy_intp' a 'int'. Possibile perdita di dati.\n",
      "  hawkeslib/model/c/c_uv_exp.cpp(2694): warning C4244: '=': conversione da 'npy_intp' a 'int'. Possibile perdita di dati.\n",
      "  hawkeslib/model/c/c_uv_exp.cpp(3119): warning C4244: '=': conversione da 'Py_ssize_t' a 'int'. Possibile perdita di dati.\n",
      "  hawkeslib/model/c/c_uv_exp.cpp(5182): warning C4244: '=': conversione da 'Py_ssize_t' a 'int'. Possibile perdita di dati.\n",
      "  \"C:\\Program Files (x86)\\Microsoft Visual Studio\\2022\\BuildTools\\VC\\Tools\\MSVC\\14.33.31629\\bin\\HostX86\\x64\\link.exe\" /nologo /INCREMENTAL:NO /LTCG /DLL /MANIFEST:EMBED,ID=2 /MANIFESTUAC:NO /LIBPATH:C:\\Users\\marco\\anaconda3\\libs /LIBPATH:C:\\Users\\marco\\anaconda3 /LIBPATH:C:\\Users\\marco\\anaconda3\\PCbuild\\amd64 \"/LIBPATH:C:\\Program Files (x86)\\Microsoft Visual Studio\\2022\\BuildTools\\VC\\Tools\\MSVC\\14.33.31629\\lib\\x64\" \"/LIBPATH:C:\\Program Files (x86)\\Windows Kits\\10\\lib\\10.0.19041.0\\ucrt\\x64\" \"/LIBPATH:C:\\Program Files (x86)\\Windows Kits\\10\\\\lib\\10.0.19041.0\\\\um\\x64\" m.lib /EXPORT:PyInit_c_uv_exp build\\temp.win-amd64-cpython-38\\Release\\hawkeslib/model/c/c_uv_exp.obj /OUT:build\\lib.win-amd64-cpython-38\\hawkeslib\\model\\c\\c_uv_exp.cp38-win_amd64.pyd /IMPLIB:build\\temp.win-amd64-cpython-38\\Release\\hawkeslib/model/c\\c_uv_exp.cp38-win_amd64.lib\n",
      "  LINK : fatal error LNK1181: non Š possibile aprire il file di input 'm.lib'\n",
      "  error: command 'C:\\\\Program Files (x86)\\\\Microsoft Visual Studio\\\\2022\\\\BuildTools\\\\VC\\\\Tools\\\\MSVC\\\\14.33.31629\\\\bin\\\\HostX86\\\\x64\\\\link.exe' failed with exit code 1181\n",
      "  [end of output]\n",
      "  \n",
      "  note: This error originates from a subprocess, and is likely not a problem with pip.\n",
      "  ERROR: Failed building wheel for hawkeslib\n",
      "  error: subprocess-exited-with-error\n",
      "  \n",
      "  Running setup.py install for hawkeslib did not run successfully.\n",
      "  exit code: 1\n",
      "  \n",
      "  [42 lines of output]\n",
      "  C:\\Users\\marco\\anaconda3\\lib\\site-packages\\setuptools\\config\\setupcfg.py:508: SetuptoolsDeprecationWarning: The license_file parameter is deprecated, use license_files instead.\n",
      "    warnings.warn(msg, warning_class)\n",
      "  running install\n",
      "  C:\\Users\\marco\\anaconda3\\lib\\site-packages\\setuptools\\command\\install.py:34: SetuptoolsDeprecationWarning: setup.py install is deprecated. Use build and pip and other standards-based tools.\n",
      "    warnings.warn(\n",
      "  running build\n",
      "  running build_py\n",
      "  creating build\n",
      "  creating build\\lib.win-amd64-cpython-38\n",
      "  creating build\\lib.win-amd64-cpython-38\\hawkeslib\n",
      "  copying hawkeslib\\__init__.py -> build\\lib.win-amd64-cpython-38\\hawkeslib\n",
      "  creating build\\lib.win-amd64-cpython-38\\hawkeslib\\model\n",
      "  copying hawkeslib\\model\\model.py -> build\\lib.win-amd64-cpython-38\\hawkeslib\\model\n",
      "  copying hawkeslib\\model\\mv_exp.py -> build\\lib.win-amd64-cpython-38\\hawkeslib\\model\n",
      "  copying hawkeslib\\model\\poisson.py -> build\\lib.win-amd64-cpython-38\\hawkeslib\\model\n",
      "  copying hawkeslib\\model\\uv_bayes.py -> build\\lib.win-amd64-cpython-38\\hawkeslib\\model\n",
      "  copying hawkeslib\\model\\uv_exp.py -> build\\lib.win-amd64-cpython-38\\hawkeslib\\model\n",
      "  copying hawkeslib\\model\\__init__.py -> build\\lib.win-amd64-cpython-38\\hawkeslib\\model\n",
      "  creating build\\lib.win-amd64-cpython-38\\hawkeslib\\model\\c\n",
      "  copying hawkeslib\\model\\c\\__init__.py -> build\\lib.win-amd64-cpython-38\\hawkeslib\\model\\c\n",
      "  creating build\\lib.win-amd64-cpython-38\\hawkeslib\\util\n",
      "  copying hawkeslib\\util\\multitrace.py -> build\\lib.win-amd64-cpython-38\\hawkeslib\\util\n",
      "  copying hawkeslib\\util\\__init__.py -> build\\lib.win-amd64-cpython-38\\hawkeslib\\util\n",
      "  running build_ext\n",
      "  building 'hawkeslib.model.c.c_uv_exp' extension\n",
      "  creating build\\temp.win-amd64-cpython-38\n",
      "  creating build\\temp.win-amd64-cpython-38\\Release\n",
      "  creating build\\temp.win-amd64-cpython-38\\Release\\hawkeslib\n",
      "  creating build\\temp.win-amd64-cpython-38\\Release\\hawkeslib\\model\n",
      "  creating build\\temp.win-amd64-cpython-38\\Release\\hawkeslib\\model\\c\n",
      "  \"C:\\Program Files (x86)\\Microsoft Visual Studio\\2022\\BuildTools\\VC\\Tools\\MSVC\\14.33.31629\\bin\\HostX86\\x64\\cl.exe\" /c /nologo /O2 /W3 /GL /DNDEBUG /MD -IC:\\Users\\marco\\anaconda3\\lib\\site-packages\\numpy\\core\\include -IC:\\Users\\marco\\anaconda3\\include -IC:\\Users\\marco\\anaconda3\\Include \"-IC:\\Program Files (x86)\\Microsoft Visual Studio\\2022\\BuildTools\\VC\\Tools\\MSVC\\14.33.31629\\include\" \"-IC:\\Program Files (x86)\\Microsoft Visual Studio\\2022\\BuildTools\\VC\\Auxiliary\\VS\\include\" \"-IC:\\Program Files (x86)\\Windows Kits\\10\\include\\10.0.19041.0\\ucrt\" \"-IC:\\Program Files (x86)\\Windows Kits\\10\\\\include\\10.0.19041.0\\\\um\" \"-IC:\\Program Files (x86)\\Windows Kits\\10\\\\include\\10.0.19041.0\\\\shared\" \"-IC:\\Program Files (x86)\\Windows Kits\\10\\\\include\\10.0.19041.0\\\\winrt\" \"-IC:\\Program Files (x86)\\Windows Kits\\10\\\\include\\10.0.19041.0\\\\cppwinrt\" /EHsc /Tphawkeslib/model/c/c_uv_exp.cpp /Fobuild\\temp.win-amd64-cpython-38\\Release\\hawkeslib/model/c/c_uv_exp.obj -O3 -march=native\n",
      "  cl : warning della riga di comando D9002 : l'opzione sconosciuta '-O3' verr… ignorata\n",
      "  cl : warning della riga di comando D9002 : l'opzione sconosciuta '-march=native' verr… ignorata\n",
      "  c_uv_exp.cpp\n",
      "  C:\\Users\\marco\\anaconda3\\lib\\site-packages\\numpy\\core\\include\\numpy\\npy_1_7_deprecated_api.h(14) : Warning Msg: Using deprecated NumPy API, disable it with #define NPY_NO_DEPRECATED_API NPY_1_7_API_VERSION\n",
      "  hawkeslib/model/c/c_uv_exp.cpp(2372): warning C4244: '=': conversione da 'npy_intp' a 'int'. Possibile perdita di dati.\n",
      "  hawkeslib/model/c/c_uv_exp.cpp(2694): warning C4244: '=': conversione da 'npy_intp' a 'int'. Possibile perdita di dati.\n",
      "  hawkeslib/model/c/c_uv_exp.cpp(3119): warning C4244: '=': conversione da 'Py_ssize_t' a 'int'. Possibile perdita di dati.\n",
      "  hawkeslib/model/c/c_uv_exp.cpp(5182): warning C4244: '=': conversione da 'Py_ssize_t' a 'int'. Possibile perdita di dati.\n",
      "  \"C:\\Program Files (x86)\\Microsoft Visual Studio\\2022\\BuildTools\\VC\\Tools\\MSVC\\14.33.31629\\bin\\HostX86\\x64\\link.exe\" /nologo /INCREMENTAL:NO /LTCG /DLL /MANIFEST:EMBED,ID=2 /MANIFESTUAC:NO /LIBPATH:C:\\Users\\marco\\anaconda3\\libs /LIBPATH:C:\\Users\\marco\\anaconda3 /LIBPATH:C:\\Users\\marco\\anaconda3\\PCbuild\\amd64 \"/LIBPATH:C:\\Program Files (x86)\\Microsoft Visual Studio\\2022\\BuildTools\\VC\\Tools\\MSVC\\14.33.31629\\lib\\x64\" \"/LIBPATH:C:\\Program Files (x86)\\Windows Kits\\10\\lib\\10.0.19041.0\\ucrt\\x64\" \"/LIBPATH:C:\\Program Files (x86)\\Windows Kits\\10\\\\lib\\10.0.19041.0\\\\um\\x64\" m.lib /EXPORT:PyInit_c_uv_exp build\\temp.win-amd64-cpython-38\\Release\\hawkeslib/model/c/c_uv_exp.obj /OUT:build\\lib.win-amd64-cpython-38\\hawkeslib\\model\\c\\c_uv_exp.cp38-win_amd64.pyd /IMPLIB:build\\temp.win-amd64-cpython-38\\Release\\hawkeslib/model/c\\c_uv_exp.cp38-win_amd64.lib\n",
      "  LINK : fatal error LNK1181: non Š possibile aprire il file di input 'm.lib'\n",
      "  error: command 'C:\\\\Program Files (x86)\\\\Microsoft Visual Studio\\\\2022\\\\BuildTools\\\\VC\\\\Tools\\\\MSVC\\\\14.33.31629\\\\bin\\\\HostX86\\\\x64\\\\link.exe' failed with exit code 1181\n",
      "  [end of output]\n",
      "  \n",
      "  note: This error originates from a subprocess, and is likely not a problem with pip.\n",
      "error: legacy-install-failure\n",
      "\n",
      "Encountered error while trying to install package.\n",
      "\n",
      "hawkeslib\n",
      "\n",
      "note: This is an issue with the package mentioned above, not pip.\n",
      "hint: See above for output from the failure.\n"
     ]
    }
   ],
   "source": [
    "pip install hawkeslib"
   ]
  },
  {
   "cell_type": "code",
   "execution_count": 4,
   "id": "2103f2df",
   "metadata": {},
   "outputs": [
    {
     "ename": "ModuleNotFoundError",
     "evalue": "No module named 'hawkeslib'",
     "output_type": "error",
     "traceback": [
      "\u001b[1;31m---------------------------------------------------------------------------\u001b[0m",
      "\u001b[1;31mModuleNotFoundError\u001b[0m                       Traceback (most recent call last)",
      "\u001b[1;32m<timed exec>\u001b[0m in \u001b[0;36m<module>\u001b[1;34m\u001b[0m\n",
      "\u001b[1;31mModuleNotFoundError\u001b[0m: No module named 'hawkeslib'"
     ]
    }
   ],
   "source": [
    "%%time\n",
    "from hawkeslib import UnivariateExpHawkesProcess as UVHP"
   ]
  },
  {
   "cell_type": "code",
   "execution_count": 7,
   "id": "10a6449d",
   "metadata": {},
   "outputs": [
    {
     "ename": "SyntaxError",
     "evalue": "invalid syntax (<unknown>, line 5)",
     "output_type": "error",
     "traceback": [
      "Traceback \u001b[1;36m(most recent call last)\u001b[0m:\n",
      "  File \u001b[0;32m\"C:\\Users\\marco\\anaconda3\\lib\\site-packages\\IPython\\core\\interactiveshell.py\"\u001b[0m, line \u001b[0;32m3437\u001b[0m, in \u001b[0;35mrun_code\u001b[0m\n    exec(code_obj, self.user_global_ns, self.user_ns)\n",
      "  File \u001b[0;32m\"<ipython-input-7-39c4fde7b14b>\"\u001b[0m, line \u001b[0;32m1\u001b[0m, in \u001b[0;35m<module>\u001b[0m\n    get_ipython().run_cell_magic('time', '', 'from hawkeslib import UnivariateExpHawkesProcess as UVHP\\n\\nuv = UVHP()\\nuv.fit(t)\\nprint uv.get_params()\\n')\n",
      "  File \u001b[0;32m\"C:\\Users\\marco\\anaconda3\\lib\\site-packages\\IPython\\core\\interactiveshell.py\"\u001b[0m, line \u001b[0;32m2399\u001b[0m, in \u001b[0;35mrun_cell_magic\u001b[0m\n    result = fn(*args, **kwargs)\n",
      "  File \u001b[0;32m\"<decorator-gen-55>\"\u001b[0m, line \u001b[0;32m2\u001b[0m, in \u001b[0;35mtime\u001b[0m\n",
      "  File \u001b[0;32m\"C:\\Users\\marco\\anaconda3\\lib\\site-packages\\IPython\\core\\magic.py\"\u001b[0m, line \u001b[0;32m187\u001b[0m, in \u001b[0;35m<lambda>\u001b[0m\n    call = lambda f, *a, **k: f(*a, **k)\n",
      "  File \u001b[0;32m\"C:\\Users\\marco\\anaconda3\\lib\\site-packages\\IPython\\core\\magics\\execution.py\"\u001b[0m, line \u001b[0;32m1277\u001b[0m, in \u001b[0;35mtime\u001b[0m\n    expr_ast = self.shell.compile.ast_parse(expr)\n",
      "\u001b[1;36m  File \u001b[1;32m\"C:\\Users\\marco\\anaconda3\\lib\\site-packages\\IPython\\core\\compilerop.py\"\u001b[1;36m, line \u001b[1;32m101\u001b[1;36m, in \u001b[1;35mast_parse\u001b[1;36m\u001b[0m\n\u001b[1;33m    return compile(source, filename, symbol, self.flags | PyCF_ONLY_AST, 1)\u001b[0m\n",
      "\u001b[1;36m  File \u001b[1;32m\"<unknown>\"\u001b[1;36m, line \u001b[1;32m5\u001b[0m\n\u001b[1;33m    print uv.get_params()\u001b[0m\n\u001b[1;37m          ^\u001b[0m\n\u001b[1;31mSyntaxError\u001b[0m\u001b[1;31m:\u001b[0m invalid syntax\n"
     ]
    }
   ],
   "source": [
    "uv = UVHP()\n",
    "uv.fit(t)\n",
    "print uv.get_params()"
   ]
  },
  {
   "cell_type": "code",
   "execution_count": 8,
   "id": "4fe95044",
   "metadata": {},
   "outputs": [
    {
     "ename": "SyntaxError",
     "evalue": "invalid syntax (<ipython-input-8-5a1e1d3c7a0f>, line 2)",
     "output_type": "error",
     "traceback": [
      "\u001b[1;36m  File \u001b[1;32m\"<ipython-input-8-5a1e1d3c7a0f>\"\u001b[1;36m, line \u001b[1;32m2\u001b[0m\n\u001b[1;33m    CPU times: user 1.48 ms, sys: 0 ns, total: 1.48 ms\u001b[0m\n\u001b[1;37m        ^\u001b[0m\n\u001b[1;31mSyntaxError\u001b[0m\u001b[1;31m:\u001b[0m invalid syntax\n"
     ]
    }
   ],
   "source": [
    "(0.04930555306217892, 0.30548369162341404, 5.150339498582191)\n",
    "CPU times: user 1.48 ms, sys: 0 ns, total: 1.48 ms\n",
    "Wall time: 1.44 ms"
   ]
  },
  {
   "cell_type": "code",
   "execution_count": null,
   "id": "bcdfaf5b",
   "metadata": {},
   "outputs": [],
   "source": [
    "nr_shocks_sample = [len(uv.sample(24)) for x in range(100000)]\n",
    "_ = plt.hist(nr_shocks_sample, bins=20)"
   ]
  },
  {
   "cell_type": "code",
   "execution_count": null,
   "id": "ca538de5",
   "metadata": {},
   "outputs": [],
   "source": [
    "from hawkeslib import BayesianUVExpHawkesProcess as BUVHP\n",
    "\n",
    "buv = BUVHP(mu_hyp=(1., 10.), alpha_hyp=(1., 1.), theta_hyp=(1., 10.))\n",
    "trace = buv.sample_posterior(t, T=t[-1], n_samp=50000)"
   ]
  },
  {
   "cell_type": "code",
   "execution_count": null,
   "id": "99b37062",
   "metadata": {},
   "outputs": [],
   "source": [
    "# compute the BCIs\n",
    "print pm.stats.quantiles(trace[\"alpha\"], [2.5, 97.5])\n",
    "print pm.stats.quantiles(trace[\"theta\"], [2.5, 97.5])"
   ]
  },
  {
   "cell_type": "code",
   "execution_count": null,
   "id": "6ea1fa00",
   "metadata": {},
   "outputs": [],
   "source": []
  },
  {
   "cell_type": "code",
   "execution_count": null,
   "id": "5e9aad44",
   "metadata": {},
   "outputs": [],
   "source": []
  }
 ],
 "metadata": {
  "kernelspec": {
   "display_name": "Python 3",
   "language": "python",
   "name": "python3"
  },
  "language_info": {
   "codemirror_mode": {
    "name": "ipython",
    "version": 3
   },
   "file_extension": ".py",
   "mimetype": "text/x-python",
   "name": "python",
   "nbconvert_exporter": "python",
   "pygments_lexer": "ipython3",
   "version": "3.8.8"
  }
 },
 "nbformat": 4,
 "nbformat_minor": 5
}
